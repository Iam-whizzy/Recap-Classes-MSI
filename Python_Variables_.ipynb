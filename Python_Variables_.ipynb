{
  "nbformat": 4,
  "nbformat_minor": 0,
  "metadata": {
    "colab": {
      "provenance": [],
      "authorship_tag": "ABX9TyPlrjUWHPlc86egLlaUMyyI",
      "include_colab_link": true
    },
    "kernelspec": {
      "name": "python3",
      "display_name": "Python 3"
    },
    "language_info": {
      "name": "python"
    }
  },
  "cells": [
    {
      "cell_type": "markdown",
      "metadata": {
        "id": "view-in-github",
        "colab_type": "text"
      },
      "source": [
        "<a href=\"https://colab.research.google.com/github/Iam-whizzy/Recap-Classes-MSI/blob/main/Python_Variables_.ipynb\" target=\"_parent\"><img src=\"https://colab.research.google.com/assets/colab-badge.svg\" alt=\"Open In Colab\"/></a>"
      ]
    },
    {
      "cell_type": "code",
      "execution_count": null,
      "metadata": {
        "colab": {
          "base_uri": "https://localhost:8080/"
        },
        "id": "eBBQzC1gr1Nd",
        "outputId": "bd009d59-99b3-41a1-8e38-20171d373072"
      },
      "outputs": [
        {
          "output_type": "stream",
          "name": "stdout",
          "text": [
            "Eric \n",
            "\n",
            "8male8 \n",
            "\n"
          ]
        }
      ],
      "source": [
        "#Python Variables\n",
        "\n",
        "# RULES IN NAMING YOUR VARIABLES\n",
        "# 1. They are case sensitive\n",
        "# 2. Do not use special characters\n",
        "# 3. Do not use Python Keywords\n",
        "# 4. Don't start with a number/s\n",
        "# 5. Start with letter/s\n",
        "\n",
        "\n",
        "firstName = \"Eric \\n\"\n",
        "\n",
        "print (firstName)\n",
        "\n",
        "gender = \"8male8 \\n\"\n",
        "print(gender)\n",
        "\n",
        "age = 78\n"
      ]
    },
    {
      "cell_type": "code",
      "source": [
        "#Python variables naming rule\n",
        "\n",
        "#3 Python keywords include : for, in, where, else, if, elif\n",
        "\n",
        "else = \"Dog\"\n"
      ],
      "metadata": {
        "id": "ZNRtXdZaviss"
      },
      "execution_count": null,
      "outputs": []
    },
    {
      "cell_type": "code",
      "source": [
        "# Outputting many variables in a single output fn\n",
        "print(firstName, gender, age)"
      ],
      "metadata": {
        "colab": {
          "base_uri": "https://localhost:8080/"
        },
        "id": "J_d092AUwsyA",
        "outputId": "70b0710f-1111-4e10-ea4d-7a3ca6e9c9a1"
      },
      "execution_count": null,
      "outputs": [
        {
          "output_type": "stream",
          "name": "stdout",
          "text": [
            "Eric \n",
            " 8male8 \n",
            " 78\n"
          ]
        }
      ]
    },
    {
      "cell_type": "code",
      "source": [
        "#DATA TYPES\n",
        "# 1. String - str -  names, text\n",
        "# 2. Integer - int - whole numbers\n",
        "# 3. Float - float - fractions, decimals, percentages"
      ],
      "metadata": {
        "id": "h4Uo0cyIxk9b"
      },
      "execution_count": null,
      "outputs": []
    },
    {
      "cell_type": "code",
      "source": [
        "# BMI Calculator\n",
        "# BMI = weight(kg)/ height squared(m)\n",
        "\n",
        "weight = float(input('Enter your weight in Kg'))\n",
        "height = float(input('Enter your height metres:'))\n",
        "bmi = weight/ (height*height)\n",
        "\n",
        "print(bmi)\n",
        "print(\"Your BMI is:\", bmi)\n",
        "print(f\"Your BMI is{bmi}\")\n",
        "\n",
        "# if, else function\n",
        "\n",
        "if bmi >= 0.0025:\n",
        "   print('You are underweight')\n",
        "else:\n",
        "  print (\"You are not underweight\")"
      ],
      "metadata": {
        "colab": {
          "base_uri": "https://localhost:8080/"
        },
        "id": "__MLkmTMy9rT",
        "outputId": "f2b2e9c6-6961-4438-a594-e916461e31f6"
      },
      "execution_count": null,
      "outputs": [
        {
          "output_type": "stream",
          "name": "stdout",
          "text": [
            "Enter your weight in Kg70.7\n",
            "Enter your height metres:170.6\n",
            "0.00242918930359575\n",
            "Your BMI is: 0.00242918930359575\n",
            "Your BMI is0.00242918930359575\n",
            "You are not underweight\n"
          ]
        }
      ]
    },
    {
      "cell_type": "code",
      "source": [
        "# Research about Python Identation\n",
        "# Implement a currency converter -> USD to Ksh and Vice Versa"
      ],
      "metadata": {
        "id": "D9a0Sv5M7Eeh"
      },
      "execution_count": null,
      "outputs": []
    }
  ]
}